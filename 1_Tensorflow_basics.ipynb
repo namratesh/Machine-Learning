{
  "nbformat": 4,
  "nbformat_minor": 0,
  "metadata": {
    "colab": {
      "name": "1.Tensorflow-basics.ipynb",
      "provenance": [],
      "collapsed_sections": [],
      "authorship_tag": "ABX9TyMUjBwVAMVWouSqIDtjg9Eu",
      "include_colab_link": true
    },
    "kernelspec": {
      "name": "python3",
      "display_name": "Python 3"
    }
  },
  "cells": [
    {
      "cell_type": "markdown",
      "metadata": {
        "id": "view-in-github",
        "colab_type": "text"
      },
      "source": [
        "<a href=\"https://colab.research.google.com/github/namratesh/Machine-Learning/blob/master/1_Tensorflow_basics.ipynb\" target=\"_parent\"><img src=\"https://colab.research.google.com/assets/colab-badge.svg\" alt=\"Open In Colab\"/></a>"
      ]
    },
    {
      "cell_type": "code",
      "metadata": {
        "id": "wpA-CwvHKKDb",
        "colab_type": "code",
        "colab": {}
      },
      "source": [
        "import numpy as np\n",
        "%tensorflow_version 1.x\n",
        "import tensorflow as tf\n"
      ],
      "execution_count": 0,
      "outputs": []
    },
    {
      "cell_type": "code",
      "metadata": {
        "id": "fF3FDh0EKXsw",
        "colab_type": "code",
        "colab": {}
      },
      "source": [
        "#creating sess\n",
        "sess = tf.Session()"
      ],
      "execution_count": 0,
      "outputs": []
    },
    {
      "cell_type": "code",
      "metadata": {
        "id": "c-gVLlBdKq5V",
        "colab_type": "code",
        "colab": {}
      },
      "source": [
        "# declaring tensors and placehoolders\n",
        "x_vals = np.array([1., 3., 4., 5., 9.])\n",
        "x_data = tf.placeholder(tf.float32)\n",
        "m_const = tf.constant(5.)"
      ],
      "execution_count": 0,
      "outputs": []
    },
    {
      "cell_type": "code",
      "metadata": {
        "id": "A-Du18n0NO1D",
        "colab_type": "code",
        "outputId": "d99a3322-f455-4158-dafb-888566d0e231",
        "colab": {
          "base_uri": "https://localhost:8080/",
          "height": 101
        }
      },
      "source": [
        "#mltiplication\n",
        "my_prod = tf.multiply(x_data,m_const)\n",
        "for x_val in x_vals:\n",
        "  print(sess.run(my_prod, feed_dict= {x_data:x_val}) )"
      ],
      "execution_count": 0,
      "outputs": [
        {
          "output_type": "stream",
          "text": [
            "5.0\n",
            "15.0\n",
            "20.0\n",
            "25.0\n",
            "45.0\n"
          ],
          "name": "stdout"
        }
      ]
    },
    {
      "cell_type": "markdown",
      "metadata": {
        "id": "tQvT5SZ9QoeF",
        "colab_type": "text"
      },
      "source": [
        "#matrix multplication"
      ]
    },
    {
      "cell_type": "code",
      "metadata": {
        "id": "xqZvBXZ1N2Ex",
        "colab_type": "code",
        "outputId": "39b7c4dc-5a5e-4257-fac2-6a24b9ba0625",
        "colab": {
          "base_uri": "https://localhost:8080/",
          "height": 67
        }
      },
      "source": [
        "\n",
        "#creating 3*5 matrix\n",
        "my_arr = np.array([[1., 3., 4., 6., 7.],\n",
        "                   [-2., 3., 4., 5., 6.],\n",
        "                   [5., 6., 7., 2., 3.]])\n",
        "my_arr"
      ],
      "execution_count": 0,
      "outputs": [
        {
          "output_type": "execute_result",
          "data": {
            "text/plain": [
              "array([[ 1.,  3.,  4.,  6.,  7.],\n",
              "       [-2.,  3.,  4.,  5.,  6.],\n",
              "       [ 5.,  6.,  7.,  2.,  3.]])"
            ]
          },
          "metadata": {
            "tags": []
          },
          "execution_count": 12
        }
      ]
    },
    {
      "cell_type": "code",
      "metadata": {
        "id": "PNx9Vt6uQFfa",
        "colab_type": "code",
        "colab": {}
      },
      "source": [
        "x_vals = np.array([my_arr, my_arr+1])\n",
        "x_data = tf.placeholder(tf.float32, shape=(3,5))"
      ],
      "execution_count": 0,
      "outputs": []
    },
    {
      "cell_type": "markdown",
      "metadata": {
        "id": "LvrmwOBWvKUb",
        "colab_type": "text"
      },
      "source": [
        "#creating constant that will be used for multiplication and addition"
      ]
    },
    {
      "cell_type": "code",
      "metadata": {
        "id": "FMmsdZX_RHiI",
        "colab_type": "code",
        "colab": {}
      },
      "source": [
        "m1 = tf.constant([[2.], [5.], [6.], [0.], [6.]])\n",
        "m2 = tf.constant([[5.]])\n",
        "a1 = tf.constant([[10.]])"
      ],
      "execution_count": 0,
      "outputs": []
    },
    {
      "cell_type": "code",
      "metadata": {
        "id": "DB9YskuLSGrW",
        "colab_type": "code",
        "colab": {}
      },
      "source": [
        "prod1 = tf.matmul(x_data, m1) #multiplication\n",
        "prod2 = tf.matmul(prod1,m2) #addition\n",
        "add1 = tf.add(prod2, a1)  #multiplication"
      ],
      "execution_count": 0,
      "outputs": []
    },
    {
      "cell_type": "code",
      "metadata": {
        "id": "Re_W3RrWScUm",
        "colab_type": "code",
        "outputId": "f37fc94b-a37a-4c30-a1bc-47287a9e9829",
        "colab": {
          "base_uri": "https://localhost:8080/",
          "height": 67
        }
      },
      "source": [
        "print(prod1)\n",
        "print(add1)\n",
        "print(prod2)"
      ],
      "execution_count": 0,
      "outputs": [
        {
          "output_type": "stream",
          "text": [
            "Tensor(\"MatMul:0\", shape=(3, 1), dtype=float32)\n",
            "Tensor(\"Add:0\", shape=(3, 1), dtype=float32)\n",
            "Tensor(\"MatMul_1:0\", shape=(3, 1), dtype=float32)\n"
          ],
          "name": "stdout"
        }
      ]
    },
    {
      "cell_type": "code",
      "metadata": {
        "id": "j2W6t0X2Sx2n",
        "colab_type": "code",
        "outputId": "bd6c4b02-43ef-4c0d-dbe0-cb22a4e826f0",
        "colab": {
          "base_uri": "https://localhost:8080/",
          "height": 118
        }
      },
      "source": [
        "#addition\n",
        "for x_val in x_vals:\n",
        "  print(sess.run(add1, feed_dict={x_data:x_val}))"
      ],
      "execution_count": 0,
      "outputs": [
        {
          "output_type": "stream",
          "text": [
            "[[425.]\n",
            " [365.]\n",
            " [510.]]\n",
            "[[520.]\n",
            " [460.]\n",
            " [605.]]\n"
          ],
          "name": "stdout"
        }
      ]
    },
    {
      "cell_type": "code",
      "metadata": {
        "id": "5OtMmAEMTb1v",
        "colab_type": "code",
        "outputId": "570cee00-9b65-4f7b-aea7-37457624dadc",
        "colab": {
          "base_uri": "https://localhost:8080/",
          "height": 118
        }
      },
      "source": [
        "#multiplication\n",
        "for x_val in x_vals:\n",
        "  print(sess.run(prod1, feed_dict={x_data:x_val}))"
      ],
      "execution_count": 0,
      "outputs": [
        {
          "output_type": "stream",
          "text": [
            "[[ 83.]\n",
            " [ 71.]\n",
            " [100.]]\n",
            "[[102.]\n",
            " [ 90.]\n",
            " [119.]]\n"
          ],
          "name": "stdout"
        }
      ]
    },
    {
      "cell_type": "code",
      "metadata": {
        "id": "V0pLfz3ITtf3",
        "colab_type": "code",
        "outputId": "64421939-ec12-4bf2-fae5-4f96e0976455",
        "colab": {
          "base_uri": "https://localhost:8080/",
          "height": 118
        }
      },
      "source": [
        "#multiplication\n",
        "for x_val in x_vals:\n",
        "  print(sess.run(prod2, feed_dict={x_data:x_val}))"
      ],
      "execution_count": 0,
      "outputs": [
        {
          "output_type": "stream",
          "text": [
            "[[415.]\n",
            " [355.]\n",
            " [500.]]\n",
            "[[510.]\n",
            " [450.]\n",
            " [595.]]\n"
          ],
          "name": "stdout"
        }
      ]
    },
    {
      "cell_type": "markdown",
      "metadata": {
        "id": "fJ4N8Yg8vjRe",
        "colab_type": "text"
      },
      "source": [
        "Working with multiple layers"
      ]
    },
    {
      "cell_type": "code",
      "metadata": {
        "id": "zUrkjbu7T2il",
        "colab_type": "code",
        "colab": {}
      },
      "source": [
        "#Creating 2d image using numpy\n",
        "x_shape = [1,4,4,1]\n",
        "x_val = np.random.uniform(size=x_shape)"
      ],
      "execution_count": 0,
      "outputs": []
    },
    {
      "cell_type": "code",
      "metadata": {
        "id": "JDKfrjWcVQW9",
        "colab_type": "code",
        "colab": {}
      },
      "source": [
        "#creating placeholder in graph to feed sample image\n",
        "x_data = tf.placeholder(tf.float32, shape=x_shape)"
      ],
      "execution_count": 0,
      "outputs": []
    },
    {
      "cell_type": "code",
      "metadata": {
        "id": "c0R2ATnyWIcI",
        "colab_type": "code",
        "colab": {}
      },
      "source": [
        "my_filter = tf.constant(0.25, shape = [4,6,1,1])\n",
        "my_strides = [1,2,2,1]\n",
        "mov_avg_layer = tf.nn.conv2d(x_data, my_filter, my_strides, padding= 'SAME''',name = 'Movong_Avg_Window' )"
      ],
      "execution_count": 0,
      "outputs": []
    },
    {
      "cell_type": "code",
      "metadata": {
        "id": "TtflBBrNW2sM",
        "colab_type": "code",
        "colab": {}
      },
      "source": [
        "def custom_layer(input_matrix):\n",
        "  input_matrix_squeezed = tf.squeeze(input_matrix)\n",
        "  A = tf.constant([[1., 2.], [-1., 3.]])\n",
        "  B =  tf.constant(1., shape=[2, 2])\n",
        "  temp1 = tf.matmul(A, input_matrix_squeezed)\n",
        "  temp = tf.add(temp1, B) # Ax + b\n",
        "  return(tf.sigmoid(temp))\n"
      ],
      "execution_count": 0,
      "outputs": []
    },
    {
      "cell_type": "code",
      "metadata": {
        "id": "sS0DcwZiZfla",
        "colab_type": "code",
        "colab": {}
      },
      "source": [
        "with tf.name_scope('Custom_Layer') as scope:\n",
        " custom_layer1 = custom_layer(mov_avg_layer)"
      ],
      "execution_count": 0,
      "outputs": []
    },
    {
      "cell_type": "code",
      "metadata": {
        "id": "_4LuB6UQZ2sG",
        "colab_type": "code",
        "outputId": "3e6c44a3-c510-420a-8d75-96ed7f19014e",
        "colab": {
          "base_uri": "https://localhost:8080/",
          "height": 50
        }
      },
      "source": [
        "print(sess.run(custom_layer1, feed_dict={x_data: x_val}))\n"
      ],
      "execution_count": 0,
      "outputs": [
        {
          "output_type": "stream",
          "text": [
            "[[0.99798125 0.99798125]\n",
            " [0.9888538  0.9888538 ]]\n"
          ],
          "name": "stdout"
        }
      ]
    },
    {
      "cell_type": "code",
      "metadata": {
        "id": "lA5cHqp8cQtZ",
        "colab_type": "code",
        "outputId": "1446e693-6f11-4456-b470-7b21d2ae38d5",
        "colab": {
          "base_uri": "https://localhost:8080/",
          "height": 248
        }
      },
      "source": [
        "#importing numpy and tensorflow\n",
        "import numpy as np\n",
        "%tensorflow_version 1.x\n",
        "import tensorflow as tf\n",
        "\n",
        "# declaring tensors and placehoolders\n",
        "x_vals = np.array([1., 3., 4., 5., 9.])\n",
        "x_data = tf.placeholder(tf.float32)\n",
        "\n",
        "#declaring constant\n",
        "m_const = tf.constant(5.)\n",
        "\n",
        "#creating sess\n",
        "sess = tf.Session()\n",
        "\n",
        "#multiplication of 1D array \n",
        "my_prod = tf.multiply(x_data, m_const)\n",
        "print(\"multilplication of 1d array:\")\n",
        "for x_val in x_vals:\n",
        "  print(sess.run(my_prod, feed_dict= {x_data:x_val}) )\n",
        "print(\"*\"*30)\n",
        "\n",
        "#addiditon of 1D array\n",
        "my_add = tf.add(x_data, m_const)\n",
        "print(\"addition of 1d array:\")\n",
        "for x_val in x_vals:\n",
        "  print(sess.run(my_add, feed_dict= {x_data:x_val}) )\n"
      ],
      "execution_count": 0,
      "outputs": [
        {
          "output_type": "stream",
          "text": [
            "multilplication of 1d array:\n",
            "5.0\n",
            "15.0\n",
            "20.0\n",
            "25.0\n",
            "45.0\n",
            "******************************\n",
            "addition of 1d array:\n",
            "6.0\n",
            "8.0\n",
            "9.0\n",
            "10.0\n",
            "14.0\n"
          ],
          "name": "stdout"
        }
      ]
    },
    {
      "cell_type": "code",
      "metadata": {
        "id": "jn69-8U1wfS9",
        "colab_type": "code",
        "outputId": "0cece8b3-3262-4ab9-ebc3-09b92cb57a01",
        "colab": {
          "base_uri": "https://localhost:8080/",
          "height": 50
        }
      },
      "source": [
        "#importing numpy and tensorflow\n",
        "import numpy as np\n",
        "%tensorflow_version 1.x\n",
        "import tensorflow as tf\n",
        "\n",
        "#Creating 2d image using numpy\n",
        "x_shape = [1,4,4,1]\n",
        "x_val = np.random.uniform(size=x_shape)\n",
        "\n",
        "#creating placeholder in graph to feed sample image\n",
        "x_data = tf.placeholder(tf.float32, shape=x_shape)\n",
        "\n",
        "my_filter = tf.constant(0.25, shape = [4,6,1,1])\n",
        "my_strides = [1,2,2,1]\n",
        "mov_avg_layer = tf.nn.conv2d(x_data, my_filter, my_strides, padding= 'SAME'''\n",
        "                                                    ,name = 'Movong_Avg_Window')\n",
        "\n",
        "# define a custom layer that will operate on the 2x2 output of the moving\n",
        "# window averagecustom function will first multiply the input by another 2x2\n",
        "# matrix tensor, and then add one to each entry\n",
        "def custom_layer(input_matrix):\n",
        "  input_matrix_squeezed = tf.squeeze(input_matrix)\n",
        "  A = tf.constant([[1., 2.], [-1., 3.]])\n",
        "  B =  tf.constant(1., shape=[2, 2])\n",
        "  temp1 = tf.matmul(A, input_matrix_squeezed)\n",
        "  temp = tf.add(temp1, B) # Ax + b\n",
        "  return(tf.sigmoid(temp))\n",
        "\n",
        "with tf.name_scope('Custom_Layer') as scope:\n",
        " custom_layer1 = custom_layer(mov_avg_layer)\n",
        "\n",
        "print(sess.run(custom_layer1, feed_dict={x_data: x_val}))\n"
      ],
      "execution_count": 0,
      "outputs": [
        {
          "output_type": "stream",
          "text": [
            "[[0.99621516 0.99621516]\n",
            " [0.97804    0.97804   ]]\n"
          ],
          "name": "stdout"
        }
      ]
    },
    {
      "cell_type": "code",
      "metadata": {
        "id": "5oHGmKwQxwCi",
        "colab_type": "code",
        "colab": {}
      },
      "source": [
        ""
      ],
      "execution_count": 0,
      "outputs": []
    }
  ]
}