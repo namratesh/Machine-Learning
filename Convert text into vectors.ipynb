{
 "cells": [
  {
   "cell_type": "code",
   "execution_count": 1,
   "metadata": {},
   "outputs": [],
   "source": [
    "import nltk\n",
    "from nltk.tokenize import word_tokenize"
   ]
  },
  {
   "cell_type": "code",
   "execution_count": 2,
   "metadata": {},
   "outputs": [],
   "source": [
    "sen = \"I am a writer at medium and write articles on Machine learning.\""
   ]
  },
  {
   "cell_type": "code",
   "execution_count": 3,
   "metadata": {},
   "outputs": [
    {
     "name": "stdout",
     "output_type": "stream",
     "text": [
      "['I', 'am', 'a', 'writer', 'at', 'medium', 'and', 'write', 'articles', 'on', 'Machine', 'learning', '.']\n"
     ]
    }
   ],
   "source": [
    "words = word_tokenize(sen)\n",
    "print(words)\n"
   ]
  },
  {
   "cell_type": "code",
   "execution_count": 4,
   "metadata": {},
   "outputs": [
    {
     "name": "stdout",
     "output_type": "stream",
     "text": [
      "['I', 'writer', 'medium', 'write', 'articles', 'Machine', 'learning', '.']\n"
     ]
    }
   ],
   "source": [
    "#removing stopwords\n",
    "from nltk.corpus import stopwords\n",
    "stop_words = set(stopwords.words('english'))\n",
    "tokens = [w for w in words if not w in stop_words]\n",
    "print(tokens)"
   ]
  },
  {
   "cell_type": "markdown",
   "metadata": {},
   "source": [
    "## Grams"
   ]
  },
  {
   "cell_type": "code",
   "execution_count": 5,
   "metadata": {},
   "outputs": [
    {
     "name": "stdout",
     "output_type": "stream",
     "text": [
      "('I', 'am')\n",
      "('am', 'a')\n",
      "('a', 'writer')\n",
      "('writer', 'at')\n",
      "('at', 'medium')\n",
      "('medium', 'and')\n",
      "('and', 'write')\n",
      "('write', 'articles')\n",
      "('articles', 'on')\n",
      "('on', 'Machine')\n",
      "('Machine', 'learning.')\n"
     ]
    }
   ],
   "source": [
    "#bigram\n",
    "from nltk import bigrams\n",
    "string_bigrams = bigrams(sen.split())\n",
    "for se in string_bigrams:\n",
    "    print(se)"
   ]
  },
  {
   "cell_type": "code",
   "execution_count": 6,
   "metadata": {},
   "outputs": [
    {
     "name": "stdout",
     "output_type": "stream",
     "text": [
      "('I', 'am', 'a')\n",
      "('am', 'a', 'writer')\n",
      "('a', 'writer', 'at')\n",
      "('writer', 'at', 'medium')\n",
      "('at', 'medium', 'and')\n",
      "('medium', 'and', 'write')\n",
      "('and', 'write', 'articles')\n",
      "('write', 'articles', 'on')\n",
      "('articles', 'on', 'Machine')\n",
      "('on', 'Machine', 'learning.')\n"
     ]
    }
   ],
   "source": [
    "#trigram\n",
    "from nltk import trigrams\n",
    "string_trigrams = trigrams(sen.split())\n",
    "for se in string_trigrams:\n",
    "    print(se)"
   ]
  },
  {
   "cell_type": "code",
   "execution_count": 7,
   "metadata": {},
   "outputs": [
    {
     "name": "stdout",
     "output_type": "stream",
     "text": [
      "('I', 'am', 'a', 'writer', 'at')\n",
      "('am', 'a', 'writer', 'at', 'medium')\n",
      "('a', 'writer', 'at', 'medium', 'and')\n",
      "('writer', 'at', 'medium', 'and', 'write')\n",
      "('at', 'medium', 'and', 'write', 'articles')\n",
      "('medium', 'and', 'write', 'articles', 'on')\n",
      "('and', 'write', 'articles', 'on', 'Machine')\n",
      "('write', 'articles', 'on', 'Machine', 'learning.')\n"
     ]
    }
   ],
   "source": [
    "#ngrams\n",
    "from nltk import ngrams\n",
    "n = 5\n",
    "fourgrams = ngrams(sen.split(), n)\n",
    "\n",
    "for grams in fourgrams:\n",
    "    print(grams)"
   ]
  },
  {
   "cell_type": "markdown",
   "metadata": {},
   "source": [
    "TF-IDF"
   ]
  },
  {
   "cell_type": "code",
   "execution_count": 12,
   "metadata": {},
   "outputs": [
    {
     "name": "stdout",
     "output_type": "stream",
     "text": [
      "['am', 'and', 'articles', 'at', 'data', 'language', 'learning', 'machine', 'medium', 'natural', 'on', 'processing', 'scientist', 'working', 'write', 'writer']\n",
      "(3, 16)\n"
     ]
    }
   ],
   "source": [
    "from sklearn.feature_extraction.text import TfidfVectorizer\n",
    "sen = [\n",
    "    'I am a writer at medium and write articles on Machine learning.',\n",
    "    'I am data scientist.',\n",
    "    'I am working on Natural Language Processing.'\n",
    "]\n",
    "vectorizer = TfidfVectorizer()\n",
    "X = vectorizer.fit_transform(sen)\n",
    "print(vectorizer.get_feature_names())\n",
    "\n",
    "print(X.shape)"
   ]
  },
  {
   "cell_type": "code",
   "execution_count": null,
   "metadata": {},
   "outputs": [],
   "source": []
  }
 ],
 "metadata": {
  "kernelspec": {
   "display_name": "Python 3",
   "language": "python",
   "name": "python3"
  },
  "language_info": {
   "codemirror_mode": {
    "name": "ipython",
    "version": 3
   },
   "file_extension": ".py",
   "mimetype": "text/x-python",
   "name": "python",
   "nbconvert_exporter": "python",
   "pygments_lexer": "ipython3",
   "version": "3.7.4"
  }
 },
 "nbformat": 4,
 "nbformat_minor": 2
}
