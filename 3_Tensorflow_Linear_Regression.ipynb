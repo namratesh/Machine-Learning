{
  "nbformat": 4,
  "nbformat_minor": 0,
  "metadata": {
    "colab": {
      "name": "3.Tensorflow_Linear_Regression",
      "provenance": [],
      "authorship_tag": "ABX9TyMBXt4hMp4pcNqgE/3jTeBW",
      "include_colab_link": true
    },
    "kernelspec": {
      "name": "python3",
      "display_name": "Python 3"
    }
  },
  "cells": [
    {
      "cell_type": "markdown",
      "metadata": {
        "id": "view-in-github",
        "colab_type": "text"
      },
      "source": [
        "<a href=\"https://colab.research.google.com/github/namratesh/Machine-Learning/blob/master/3_Tensorflow_Linear_Regression.ipynb\" target=\"_parent\"><img src=\"https://colab.research.google.com/assets/colab-badge.svg\" alt=\"Open In Colab\"/></a>"
      ]
    },
    {
      "cell_type": "markdown",
      "metadata": {
        "id": "bL4ozUs_RZtI",
        "colab_type": "text"
      },
      "source": [
        "**Linear Regression**  - It is one of the most used algorithms and it is very important to understand how to implement it and its varios flavors.\n",
        "\n",
        "* It is very interpretable.\n",
        "\n",
        "\n"
      ]
    },
    {
      "cell_type": "markdown",
      "metadata": {
        "id": "n830YAkCRzBL",
        "colab_type": "text"
      },
      "source": [
        "\n",
        "\n",
        "# Using the Matrix Inverse Method \n",
        "\n",
        "```\n",
        "\n"
      ]
    },
    {
      "cell_type": "markdown",
      "metadata": {
        "id": "O5NEW9j4S7xG",
        "colab_type": "text"
      },
      "source": [
        "Linear Regression can be represented as a set of matrix equations,\n",
        "\n",
        "**Ax = b**\n",
        "\n",
        "Here, we are interested in solving the coefficient in matrix x\n",
        "\n",
        "The solution to solve x can be expressed by\n",
        "(![](data:image/png;base64,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)))"
      ]
    },
    {
      "cell_type": "code",
      "metadata": {
        "id": "AdE26uXlt8CJ",
        "colab_type": "code",
        "colab": {}
      },
      "source": [
        "#loading necessary libraries, initialize the graph\n",
        "import numpy as np\n",
        "%tensorflow_version 1.x\n",
        "import tensorflow as tf\n",
        "import matplotlib.pyplot as plt\n",
        "sess = tf.Session()\n",
        "\n"
      ],
      "execution_count": 0,
      "outputs": []
    },
    {
      "cell_type": "code",
      "metadata": {
        "id": "pgUkNPFqTbdt",
        "colab_type": "code",
        "colab": {}
      },
      "source": [
        "#creating data\n",
        "x_vals = np.linspace(0,10,120)\n",
        "y_vals = x_vals + np.random.normal(0,1,120)"
      ],
      "execution_count": 0,
      "outputs": []
    },
    {
      "cell_type": "code",
      "metadata": {
        "id": "SyWdPYszUw8u",
        "colab_type": "code",
        "colab": {}
      },
      "source": [
        "#creating matrices to use in the inverse method\n",
        "#A - matrix wll be a column of x-data and a columns of 1s\n",
        "#B - matrix for y data\n",
        "\n",
        "x_vals_column = np.transpose(np.matrix(x_vals))\n",
        "ones_column = np.transpose(np.matrix(np.repeat(1,120)))\n",
        "\n",
        "A = np.column_stack((x_vals_column, ones_column))\n",
        "b = np.transpose(np.matrix(y_vals))"
      ],
      "execution_count": 0,
      "outputs": []
    },
    {
      "cell_type": "code",
      "metadata": {
        "id": "yEBokf3uWUY9",
        "colab_type": "code",
        "colab": {}
      },
      "source": [
        "#turning a and b matrices in tensor\n",
        "A_tensor = tf.constant(A)\n",
        "b_tensor = tf.constant(b)"
      ],
      "execution_count": 0,
      "outputs": []
    },
    {
      "cell_type": "code",
      "metadata": {
        "id": "ZAAwc0u8WgHs",
        "colab_type": "code",
        "colab": {}
      },
      "source": [
        "#solving \n",
        "tA_A = tf.matmul(tf.transpose(A_tensor), A_tensor)\n",
        "tA_A_inv = tf.matrix_inverse(tA_A)\n",
        "product = tf.matmul(tA_A_inv, tf.transpose(A_tensor))\n",
        "solution = tf.matmul(product, b_tensor)\n",
        "solution_eval = sess.run(solution)"
      ],
      "execution_count": 0,
      "outputs": []
    },
    {
      "cell_type": "code",
      "metadata": {
        "id": "VvYk8r4XW4K9",
        "colab_type": "code",
        "colab": {
          "base_uri": "https://localhost:8080/",
          "height": 50
        },
        "outputId": "eb4af120-42cb-48da-d7aa-b4a3a32e9b4d"
      },
      "source": [
        "#extracting coeeficient from solution\n",
        "slope = solution_eval[0][0]\n",
        "y_intercept = solution_eval[1][0]\n",
        "print('slope: ' , str(slope))\n",
        "print('y_intercept: ' , str(y_intercept))"
      ],
      "execution_count": 12,
      "outputs": [
        {
          "output_type": "stream",
          "text": [
            "slope:  0.9359203782371535\n",
            "y_intercept:  0.4188572026949018\n"
          ],
          "name": "stdout"
        }
      ]
    },
    {
      "cell_type": "code",
      "metadata": {
        "id": "3XOu25MKXRPO",
        "colab_type": "code",
        "colab": {
          "base_uri": "https://localhost:8080/",
          "height": 265
        },
        "outputId": "b79bfc60-fa98-4a13-9e62-d6200785bd0f"
      },
      "source": [
        "best_fit = []\n",
        "for i in x_vals:\n",
        " best_fit.append(slope*i+y_intercept)\n",
        "plt.plot(x_vals, y_vals, 'o', label='Data')\n",
        "plt.plot(x_vals, best_fit, 'r-', label='Best fit line',linewidth=3)\n",
        "plt.legend(loc='upper left')\n",
        "plt.show()"
      ],
      "execution_count": 16,
      "outputs": [
        {
          "output_type": "display_data",
          "data": {
            "image/png": "[encoded data removed]",
            "text/plain": [
              "<Figure size 432x288 with 1 Axes>"
            ]
          },
          "metadata": {
            "tags": []
          }
        }
      ]
    },
    {
      "cell_type": "markdown",
      "metadata": {
        "id": "XdVaoP35Xrnv",
        "colab_type": "text"
      },
      "source": [
        "# Learning The TensorFlow Way of Linear Regression"
      ]
    },
    {
      "cell_type": "code",
      "metadata": {
        "id": "E1n1OMNRYKQQ",
        "colab_type": "code",
        "colab": {}
      },
      "source": [
        "#loading libraries \n",
        "import matplotlib.pyplot as plt\n",
        "import numpy as np\n",
        "%tensorflow_version 1.x\n",
        "import tensorflow as tf\n",
        "from sklearn import datasets\n",
        "from tensorflow.python.framework import ops\n",
        "\n",
        "#creating graph\n",
        "ops.reset_default_graph()\n",
        "\n",
        "#intiliasing session\n",
        "sess = tf.Session()\n",
        "\n",
        "#loading dataset\n",
        "iris = datasets.load_iris()\n",
        "\n",
        "x_vals = np.array([x[3] for x in iris.data])\n",
        "y_vals = np.array([y[0] for y in iris.data])\n"
      ],
      "execution_count": 0,
      "outputs": []
    },
    {
      "cell_type": "code",
      "metadata": {
        "id": "M8kSGgPWZgoA",
        "colab_type": "code",
        "colab": {}
      },
      "source": [
        "#declaring learning rate\n",
        "learning_rate = 0.05\n",
        "\n",
        "#declaring batch size\n",
        "batch_size = 25\n",
        "\n",
        "#declaring placeholders\n",
        "x_data = tf.placeholder(shape= [None, 1], dtype = tf.float32)\n",
        "y_target = tf.placeholder(shape = [None, 1], dtype =  tf.float32)\n",
        "\n",
        "#declaring model variables\n",
        "A = tf.Variable(tf.random_normal(shape = [1,1]))\n",
        "b = tf.Variable(tf.random_normal(shape = [1,1]))\n"
      ],
      "execution_count": 0,
      "outputs": []
    },
    {
      "cell_type": "code",
      "metadata": {
        "id": "br8YxrWqaD3z",
        "colab_type": "code",
        "colab": {}
      },
      "source": [
        "#writing folmula y = Ax+b\n",
        "model_output = tf.add(tf.multiply(x_data, A), b)"
      ],
      "execution_count": 0,
      "outputs": []
    },
    {
      "cell_type": "code",
      "metadata": {
        "id": "-_5j3iwdaj6X",
        "colab_type": "code",
        "colab": {}
      },
      "source": [
        "#decalring L2 loss function (which includes mean over the batch)\n",
        "loss = tf.reduce_mean(tf.square(y_target - model_output))\n",
        "\n",
        "#intialising the variable\n",
        "init = tf.global_variables_initializer()\n",
        "sess.run(init)\n",
        "\n",
        "#delaring the optimiser\n",
        "my_opt = tf.train.GradientDescentOptimizer(learning_rate)\n",
        "train_step = my_opt.minimize(loss)"
      ],
      "execution_count": 0,
      "outputs": []
    },
    {
      "cell_type": "code",
      "metadata": {
        "id": "lbD7wUpYbSHM",
        "colab_type": "code",
        "colab": {
          "base_uri": "https://localhost:8080/",
          "height": 151
        },
        "outputId": "c1940848-3b8c-4238-93ec-e4c6e21d9fcf"
      },
      "source": [
        "loss_vec= []\n",
        "for i in range(100):\n",
        "  rand_index = np.random.choice(len(x_vals), size = batch_size)\n",
        "  rand_x = np.transpose([x_vals[rand_index]])\n",
        "  rand_y = np.transpose([y_vals[rand_index]])\n",
        "  sess.run(train_step, feed_dict={x_data: rand_x, y_target: rand_y})\n",
        "  temp_loss = sess.run(loss, feed_dict={x_data: rand_x, y_target: rand_y})\n",
        "  loss_vec.append(temp_loss)\n",
        "  if (i+1)%25==0:\n",
        "    print('Step #' , str(i+1) , ' A = ' , str(sess.run(A)) , 'b = ' , str(sess.run(b)))\n",
        "    print('Loss = ''' , str(temp_loss))"
      ],
      "execution_count": 39,
      "outputs": [
        {
          "output_type": "stream",
          "text": [
            "Step # 25  A =  [[2.0153759]] b =  [[3.103171]]\n",
            "Loss =  0.83587545\n",
            "Step # 50  A =  [[1.5687429]] b =  [[3.7782903]]\n",
            "Loss =  0.57700366\n",
            "Step # 75  A =  [[1.2451531]] b =  [[4.1679306]]\n",
            "Loss =  0.46359903\n",
            "Step # 100  A =  [[1.1335193]] b =  [[4.443145]]\n",
            "Loss =  0.29937786\n"
          ],
          "name": "stdout"
        }
      ]
    },
    {
      "cell_type": "code",
      "metadata": {
        "id": "U5gXduRJcX1w",
        "colab_type": "code",
        "colab": {}
      },
      "source": [
        "[slope] = sess.run(A)\n",
        "[y_intercept] = sess.run(b)\n",
        "best_fit = []\n",
        "for i in x_vals:\n",
        " best_fit.append(slope*i+y_intercept)"
      ],
      "execution_count": 0,
      "outputs": []
    },
    {
      "cell_type": "code",
      "metadata": {
        "id": "EqsftWhadEl3",
        "colab_type": "code",
        "colab": {
          "base_uri": "https://localhost:8080/",
          "height": 573
        },
        "outputId": "f1bd6075-48ac-4b6b-b105-f8757b45574c"
      },
      "source": [
        "plt.plot(x_vals, y_vals, 'o', label='Data Points')\n",
        "plt.plot(x_vals, best_fit, 'r-', label='Best fit line', linewidth=3)\n",
        "plt.legend(loc='upper left')\n",
        "plt.title('Sepal Length vs Pedal Width')\n",
        "plt.xlabel('Pedal Width')\n",
        "plt.ylabel('Sepal Length')\n",
        "plt.show()\n",
        "plt.plot(loss_vec, 'k-')\n",
        "plt.title('L2 Loss per Generation')\n",
        "plt.xlabel('Generation')\n",
        "plt.ylabel('L2 Loss')\n",
        "plt.show()"
      ],
      "execution_count": 45,
      "outputs": [
        {
          "output_type": "display_data",
          "data": {
            "image/png": "[encoded data removed]",
            "text/plain": [
              "<Figure size 432x288 with 1 Axes>"
            ]
          },
          "metadata": {
            "tags": []
          }
        },
        {
          "output_type": "display_data",
          "data": {
            "image/png": "[encoded data removed]",
            "text/plain": [
              "<Figure size 432x288 with 1 Axes>"
            ]
          },
          "metadata": {
            "tags": []
          }
        }
      ]
    },
    {
      "cell_type": "code",
      "metadata": {
        "id": "caRG3MsYdI6j",
        "colab_type": "code",
        "colab": {}
      },
      "source": [
        ""
      ],
      "execution_count": 0,
      "outputs": []
    }
  ]
}