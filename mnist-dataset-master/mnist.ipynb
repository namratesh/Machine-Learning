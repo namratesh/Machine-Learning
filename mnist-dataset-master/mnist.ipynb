{
  "nbformat": 4,
  "nbformat_minor": 0,
  "metadata": {
    "colab": {
      "name": "mnist.ipynb",
      "version": "0.3.2",
      "provenance": []
    },
    "kernelspec": {
      "name": "python3",
      "display_name": "Python 3"
    }
  },
  "cells": [
    {
      "metadata": {
        "id": "L_xfVJU4sw_W",
        "colab_type": "code",
        "colab": {
          "base_uri": "https://localhost:8080/",
          "height": 348
        },
        "outputId": "862d90cf-a5de-4682-a65a-2654652172a6"
      },
      "cell_type": "code",
      "source": [
        "\n",
        "# Plot ad hoc mnist instances\n",
        "from keras.datasets import mnist\n",
        "import matplotlib.pyplot as plt\n",
        "# load (downloaded if needed) the MNIST dataset\n",
        "(X_train, y_train), (X_test, y_test) = mnist.load_data()\n",
        "# plot 4 images as gray scale\n",
        "plt.subplot(221)\n",
        "plt.imshow(X_train[0], cmap=plt.get_cmap('gray'))\n",
        "plt.subplot(222)\n",
        "plt.imshow(X_train[1], cmap=plt.get_cmap('gray'))\n",
        "plt.subplot(223)\n",
        "plt.imshow(X_train[2], cmap=plt.get_cmap('gray'))\n",
        "plt.subplot(224)\n",
        "plt.imshow(X_train[3], cmap=plt.get_cmap('gray'))\n",
        "# show the plot\n",
        "plt.show()\n",
        "\n"
      ],
      "execution_count": 19,
      "outputs": [
        {
          "output_type": "display_data",
          "data": {
            "image/png": "[encoded data removed]",
            "text/plain": [
              "<Figure size 576x396 with 4 Axes>"
            ]
          },
          "metadata": {
            "tags": []
          }
        }
      ]
    },
    {
      "metadata": {
        "id": "vqRLtEhqwj5W",
        "colab_type": "code",
        "colab": {}
      },
      "cell_type": "code",
      "source": [
        "import numpy\n",
        "from keras.datasets import mnist\n",
        "from keras.models import Sequential\n",
        "from keras.layers import Dense\n",
        "from keras.layers import Dropout\n",
        "from keras.utils import np_utils\n"
      ],
      "execution_count": 0,
      "outputs": []
    },
    {
      "metadata": {
        "id": "gQTOSmwtwvyb",
        "colab_type": "code",
        "colab": {}
      },
      "cell_type": "code",
      "source": [
        "# fix random seed for reproducibility\n",
        "seed = 7\n",
        "numpy.random.seed(seed)"
      ],
      "execution_count": 0,
      "outputs": []
    },
    {
      "metadata": {
        "id": "8U7L9aanw6kE",
        "colab_type": "code",
        "colab": {}
      },
      "cell_type": "code",
      "source": [
        "# load data\n",
        "(X_train, y_train), (X_test, y_test) = mnist.load_data()"
      ],
      "execution_count": 0,
      "outputs": []
    },
    {
      "metadata": {
        "id": "O9pSrGlLySu_",
        "colab_type": "code",
        "colab": {}
      },
      "cell_type": "code",
      "source": [
        "# flatten 28*28 images to a 784 vector for each image\n",
        "num_pixels = X_train.shape[1] * X_train.shape[2]\n",
        "X_train = X_train.reshape(X_train.shape[0], num_pixels).astype('float32')\n",
        "X_test = X_test.reshape(X_test.shape[0], num_pixels).astype('float32')"
      ],
      "execution_count": 0,
      "outputs": []
    },
    {
      "metadata": {
        "id": "MUvBP8-WyZw5",
        "colab_type": "code",
        "colab": {}
      },
      "cell_type": "code",
      "source": [
        "# normalize inputs from 0-255 to 0-1\n",
        "X_train = X_train / 255\n",
        "X_test = X_test / 255"
      ],
      "execution_count": 0,
      "outputs": []
    },
    {
      "metadata": {
        "id": "6_YigdQ7ydu3",
        "colab_type": "code",
        "colab": {}
      },
      "cell_type": "code",
      "source": [
        "# one hot encode outputs\n",
        "y_train = np_utils.to_categorical(y_train)\n",
        "y_test = np_utils.to_categorical(y_test)\n",
        "num_classes = y_test.shape[1]"
      ],
      "execution_count": 0,
      "outputs": []
    },
    {
      "metadata": {
        "id": "vT5KHj_Vyg7_",
        "colab_type": "code",
        "colab": {}
      },
      "cell_type": "code",
      "source": [
        "# define baseline model\n",
        "def baseline_model():\n",
        "\t# create model\n",
        "\tmodel = Sequential()\n",
        "\tmodel.add(Dense(num_pixels, input_dim=num_pixels, kernel_initializer='normal', activation='relu'))\n",
        "\tmodel.add(Dense(num_classes, kernel_initializer='normal', activation='softmax'))\n",
        "\t# Compile model\n",
        "\tmodel.compile(loss='categorical_crossentropy', optimizer='adam', metrics=['accuracy'])\n",
        "\treturn model"
      ],
      "execution_count": 0,
      "outputs": []
    },
    {
      "metadata": {
        "id": "l1lWP4R0yupM",
        "colab_type": "code",
        "colab": {
          "base_uri": "https://localhost:8080/",
          "height": 513
        },
        "outputId": "70b58514-76de-49ac-cf66-a3bb1bcc7afc"
      },
      "cell_type": "code",
      "source": [
        "# build the model\n",
        "model = baseline_model()\n",
        "# Fit the model\n",
        "model.fit(X_train, y_train, validation_data=(X_test, y_test), epochs=10, batch_size=200, verbose=2)\n",
        "# Final evaluation of the model\n",
        "scores = model.evaluate(X_test, y_test, verbose=0)\n",
        "print(\"Baseline Error: %.2f%%\" % (100-scores[1]*100))"
      ],
      "execution_count": 27,
      "outputs": [
        {
          "output_type": "stream",
          "text": [
            "WARNING:tensorflow:From /usr/local/lib/python3.6/dist-packages/tensorflow/python/framework/op_def_library.py:263: colocate_with (from tensorflow.python.framework.ops) is deprecated and will be removed in a future version.\n",
            "Instructions for updating:\n",
            "Colocations handled automatically by placer.\n",
            "WARNING:tensorflow:From /usr/local/lib/python3.6/dist-packages/tensorflow/python/ops/math_ops.py:3066: to_int32 (from tensorflow.python.ops.math_ops) is deprecated and will be removed in a future version.\n",
            "Instructions for updating:\n",
            "Use tf.cast instead.\n",
            "Train on 60000 samples, validate on 10000 samples\n",
            "Epoch 1/10\n",
            " - 6s - loss: 0.2810 - acc: 0.9206 - val_loss: 0.1416 - val_acc: 0.9566\n",
            "Epoch 2/10\n",
            " - 6s - loss: 0.1116 - acc: 0.9678 - val_loss: 0.0912 - val_acc: 0.9710\n",
            "Epoch 3/10\n",
            " - 6s - loss: 0.0715 - acc: 0.9796 - val_loss: 0.0777 - val_acc: 0.9780\n",
            "Epoch 4/10\n",
            " - 6s - loss: 0.0504 - acc: 0.9858 - val_loss: 0.0744 - val_acc: 0.9769\n",
            "Epoch 5/10\n",
            " - 6s - loss: 0.0371 - acc: 0.9892 - val_loss: 0.0670 - val_acc: 0.9793\n",
            "Epoch 6/10\n",
            " - 6s - loss: 0.0267 - acc: 0.9929 - val_loss: 0.0617 - val_acc: 0.9810\n",
            "Epoch 7/10\n",
            " - 6s - loss: 0.0204 - acc: 0.9948 - val_loss: 0.0621 - val_acc: 0.9810\n",
            "Epoch 8/10\n",
            " - 6s - loss: 0.0139 - acc: 0.9971 - val_loss: 0.0618 - val_acc: 0.9805\n",
            "Epoch 9/10\n",
            " - 6s - loss: 0.0107 - acc: 0.9978 - val_loss: 0.0575 - val_acc: 0.9810\n",
            "Epoch 10/10\n",
            " - 6s - loss: 0.0080 - acc: 0.9985 - val_loss: 0.0591 - val_acc: 0.9812\n",
            "Baseline Error: 1.88%\n"
          ],
          "name": "stdout"
        }
      ]
    },
    {
      "metadata": {
        "id": "-msmhHsSzb-6",
        "colab_type": "code",
        "colab": {}
      },
      "cell_type": "code",
      "source": [
        "import numpy\n",
        "from keras.datasets import mnist\n",
        "from keras.models import Sequential\n",
        "from keras.layers import Dense\n",
        "from keras.layers import Dropout\n",
        "from keras.layers import Flatten\n",
        "from keras.layers.convolutional import Conv2D\n",
        "from keras.layers.convolutional import MaxPooling2D\n",
        "from keras.utils import np_utils\n",
        "from keras import backend as K\n",
        "K.set_image_dim_ordering('th')"
      ],
      "execution_count": 0,
      "outputs": []
    },
    {
      "metadata": {
        "id": "p6qdysdXyylc",
        "colab_type": "code",
        "colab": {}
      },
      "cell_type": "code",
      "source": [
        "# fix random seed for reproducibility\n",
        "seed = 7\n",
        "numpy.random.seed(seed)"
      ],
      "execution_count": 0,
      "outputs": []
    },
    {
      "metadata": {
        "colab_type": "code",
        "id": "6L2accEuznAY",
        "colab": {}
      },
      "cell_type": "code",
      "source": [
        "# load data\n",
        "(X_train, y_train), (X_test, y_test) = mnist.load_data()\n",
        "# reshape to be [samples][pixels][width][height]\n",
        "X_train = X_train.reshape(X_train.shape[0], 1, 28, 28).astype('float32')\n",
        "X_test = X_test.reshape(X_test.shape[0], 1, 28, 28).astype('float32')"
      ],
      "execution_count": 0,
      "outputs": []
    },
    {
      "metadata": {
        "id": "HqQROGbXzWRX",
        "colab_type": "code",
        "colab": {}
      },
      "cell_type": "code",
      "source": [
        "# normalize inputs from 0-255 to 0-1\n",
        "X_train = X_train / 255\n",
        "X_test = X_test / 255\n",
        "# one hot encode outputs\n",
        "y_train = np_utils.to_categorical(y_train)\n",
        "y_test = np_utils.to_categorical(y_test)\n",
        "num_classes = y_test.shape[1]"
      ],
      "execution_count": 0,
      "outputs": []
    },
    {
      "metadata": {
        "id": "fNMo3ugwzvKk",
        "colab_type": "code",
        "colab": {}
      },
      "cell_type": "code",
      "source": [
        "def baseline_model():\n",
        "\t# create model\n",
        "\tmodel = Sequential()\n",
        "\tmodel.add(Conv2D(32, (5, 5), input_shape=(1, 28, 28), activation='relu'))\n",
        "\tmodel.add(MaxPooling2D(pool_size=(2, 2)))\n",
        "\tmodel.add(Dropout(0.2))\n",
        "\tmodel.add(Flatten())\n",
        "\tmodel.add(Dense(128, activation='relu'))\n",
        "\tmodel.add(Dense(num_classes, activation='softmax'))\n",
        "\t# Compile model\n",
        "\tmodel.compile(loss='categorical_crossentropy', optimizer='adam', metrics=['accuracy'])\n",
        "\treturn model"
      ],
      "execution_count": 0,
      "outputs": []
    },
    {
      "metadata": {
        "id": "EaYSM0FWzzGV",
        "colab_type": "code",
        "colab": {
          "base_uri": "https://localhost:8080/",
          "height": 765
        },
        "outputId": "f79eff3d-bc5d-4b9c-f134-ec2b6ea423c3"
      },
      "cell_type": "code",
      "source": [
        "# build the model\n",
        "model = baseline_model()\n",
        "# Fit the model\n",
        "model.fit(X_train, y_train, validation_data=(X_test, y_test), epochs=10, batch_size=200, verbose=2)\n",
        "# Final evaluation of the model\n",
        "scores = model.evaluate(X_test, y_test, verbose=0)\n",
        "print(\"CNN Error: %.2f%%\" % (100-scores[1]*100))"
      ],
      "execution_count": 37,
      "outputs": [
        {
          "output_type": "stream",
          "text": [
            "Train on 60000 samples, validate on 10000 samples\n",
            "Epoch 1/10\n",
            "Train on 60000 samples, validate on 10000 samples\n",
            "Epoch 1/10\n",
            " - 58s - loss: 0.2253 - acc: 0.9356 - val_loss: 0.0774 - val_acc: 0.9759\n",
            " - 58s - loss: 0.2253 - acc: 0.9356 - val_loss: 0.0774 - val_acc: 0.9759\n",
            "Epoch 2/10\n",
            "Epoch 2/10\n",
            " - 58s - loss: 0.0709 - acc: 0.9786 - val_loss: 0.0440 - val_acc: 0.9851\n",
            " - 58s - loss: 0.0709 - acc: 0.9786 - val_loss: 0.0440 - val_acc: 0.9851\n",
            "Epoch 3/10\n",
            "Epoch 3/10\n",
            " - 58s - loss: 0.0506 - acc: 0.9846 - val_loss: 0.0432 - val_acc: 0.9852\n",
            " - 58s - loss: 0.0506 - acc: 0.9846 - val_loss: 0.0432 - val_acc: 0.9852\n",
            "Epoch 4/10\n",
            "Epoch 4/10\n",
            " - 58s - loss: 0.0388 - acc: 0.9879 - val_loss: 0.0404 - val_acc: 0.9874\n",
            " - 58s - loss: 0.0388 - acc: 0.9879 - val_loss: 0.0404 - val_acc: 0.9874\n",
            "Epoch 5/10\n",
            "Epoch 5/10\n",
            " - 59s - loss: 0.0319 - acc: 0.9901 - val_loss: 0.0343 - val_acc: 0.9887\n",
            " - 59s - loss: 0.0319 - acc: 0.9901 - val_loss: 0.0343 - val_acc: 0.9887\n",
            "Epoch 6/10\n",
            "Epoch 6/10\n",
            " - 59s - loss: 0.0264 - acc: 0.9919 - val_loss: 0.0331 - val_acc: 0.9893\n",
            " - 59s - loss: 0.0264 - acc: 0.9919 - val_loss: 0.0331 - val_acc: 0.9893\n",
            "Epoch 7/10\n",
            "Epoch 7/10\n",
            " - 59s - loss: 0.0215 - acc: 0.9930 - val_loss: 0.0359 - val_acc: 0.9882\n",
            " - 59s - loss: 0.0215 - acc: 0.9930 - val_loss: 0.0359 - val_acc: 0.9882\n",
            "Epoch 8/10\n",
            "Epoch 8/10\n",
            " - 59s - loss: 0.0189 - acc: 0.9941 - val_loss: 0.0328 - val_acc: 0.9887\n",
            " - 59s - loss: 0.0189 - acc: 0.9941 - val_loss: 0.0328 - val_acc: 0.9887\n",
            "Epoch 9/10\n",
            "Epoch 9/10\n",
            " - 60s - loss: 0.0152 - acc: 0.9950 - val_loss: 0.0329 - val_acc: 0.9883\n",
            " - 60s - loss: 0.0152 - acc: 0.9950 - val_loss: 0.0329 - val_acc: 0.9883\n",
            "Epoch 10/10\n",
            "Epoch 10/10\n",
            " - 60s - loss: 0.0138 - acc: 0.9958 - val_loss: 0.0317 - val_acc: 0.9896\n",
            " - 60s - loss: 0.0138 - acc: 0.9958 - val_loss: 0.0317 - val_acc: 0.9896\n",
            "CNN Error: 1.04%\n",
            "CNN Error: 1.04%\n"
          ],
          "name": "stdout"
        }
      ]
    },
    {
      "metadata": {
        "id": "mi6yLaEpz4N4",
        "colab_type": "code",
        "colab": {}
      },
      "cell_type": "code",
      "source": [
        ""
      ],
      "execution_count": 0,
      "outputs": []
    }
  ]
}