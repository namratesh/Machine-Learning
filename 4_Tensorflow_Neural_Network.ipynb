{
  "nbformat": 4,
  "nbformat_minor": 0,
  "metadata": {
    "colab": {
      "name": "4.Tensorflow_Neural Network.ipynb",
      "provenance": [],
      "authorship_tag": "ABX9TyO4O2/4EfuE1cWT1SsEhdby",
      "include_colab_link": true
    },
    "kernelspec": {
      "name": "python3",
      "display_name": "Python 3"
    }
  },
  "cells": [
    {
      "cell_type": "markdown",
      "metadata": {
        "id": "view-in-github",
        "colab_type": "text"
      },
      "source": [
        "<a href=\"https://colab.research.google.com/github/namratesh/Machine-Learning/blob/master/4_Tensorflow_Neural_Network.ipynb\" target=\"_parent\"><img src=\"https://colab.research.google.com/assets/colab-badge.svg\" alt=\"Open In Colab\"/></a>"
      ]
    },
    {
      "cell_type": "code",
      "metadata": {
        "id": "3rFAAieTkaha",
        "colab_type": "code",
        "colab": {}
      },
      "source": [
        "%tensorflow_version 1.x\n",
        "import tensorflow as tf\n",
        "sess = tf.Session()"
      ],
      "execution_count": 0,
      "outputs": []
    },
    {
      "cell_type": "markdown",
      "metadata": {
        "id": "j9HVtu50ggYe",
        "colab_type": "text"
      },
      "source": [
        "Starting with first operational f(x) = a.x in Tensorflow"
      ]
    },
    {
      "cell_type": "code",
      "metadata": {
        "id": "5KZ60PMhkpX3",
        "colab_type": "code",
        "colab": {}
      },
      "source": [
        "a = tf.Variable(tf.constant(4.))\n",
        "x_val = 5.\n",
        "x_data = tf.placeholder(dtype =tf.float32)\n"
      ],
      "execution_count": 0,
      "outputs": []
    },
    {
      "cell_type": "code",
      "metadata": {
        "id": "LoSEQ3dEk64e",
        "colab_type": "code",
        "colab": {}
      },
      "source": [
        "multiplication = tf.multiply(a, x_data)\n",
        "loss = tf.square(tf.subtract(multiplication, 50.))\n"
      ],
      "execution_count": 0,
      "outputs": []
    },
    {
      "cell_type": "code",
      "metadata": {
        "id": "ROnXVgjRlOps",
        "colab_type": "code",
        "colab": {
          "base_uri": "https://localhost:8080/",
          "height": 87
        },
        "outputId": "823f4449-da37-4f50-c6c5-f669eb0bbbff"
      },
      "source": [
        "init = tf.initialize_all_variables()\n",
        "sess.run(init)\n",
        "my_opt = tf.train.GradientDescentOptimizer(0.01)\n",
        "train_step = my_opt.minimize(loss)"
      ],
      "execution_count": 4,
      "outputs": [
        {
          "output_type": "stream",
          "text": [
            "WARNING:tensorflow:From /usr/local/lib/python3.6/dist-packages/tensorflow_core/python/util/tf_should_use.py:198: initialize_all_variables (from tensorflow.python.ops.variables) is deprecated and will be removed after 2017-03-02.\n",
            "Instructions for updating:\n",
            "Use `tf.global_variables_initializer` instead.\n"
          ],
          "name": "stdout"
        }
      ]
    },
    {
      "cell_type": "code",
      "metadata": {
        "id": "iLZwFG79liri",
        "colab_type": "code",
        "outputId": "e4acf1e9-4309-4e91-bb48-d1f0e739456f",
        "colab": {
          "base_uri": "https://localhost:8080/",
          "height": 202
        }
      },
      "source": [
        "print('Optimizing a Multiplication Gate Output to 50.')\n",
        "for i in range(10):\n",
        "  sess.run(train_step, feed_dict={x_data: x_val})\n",
        "  a_val = sess.run(a)\n",
        "  mult_output = sess.run(multiplication, feed_dict={x_data: x_val})\n",
        "  print(str(a_val) , ' * ' , str(x_val) ,  ' = ' , str(mult_output))"
      ],
      "execution_count": 5,
      "outputs": [
        {
          "output_type": "stream",
          "text": [
            "Optimizing a Multiplication Gate Output to 50.\n",
            "7.0  *  5.0  =  35.0\n",
            "8.5  *  5.0  =  42.5\n",
            "9.25  *  5.0  =  46.25\n",
            "9.625  *  5.0  =  48.125\n",
            "9.8125  *  5.0  =  49.0625\n",
            "9.90625  *  5.0  =  49.53125\n",
            "9.953125  *  5.0  =  49.765625\n",
            "9.9765625  *  5.0  =  49.882812\n",
            "9.988281  *  5.0  =  49.941406\n",
            "9.994141  *  5.0  =  49.970703\n"
          ],
          "name": "stdout"
        }
      ]
    },
    {
      "cell_type": "markdown",
      "metadata": {
        "id": "rKlgPT7SlwwK",
        "colab_type": "text"
      },
      "source": [
        "# Comparing sigmoid rectified linear unit"
      ]
    },
    {
      "cell_type": "code",
      "metadata": {
        "id": "ZU5hoHQVy9qB",
        "colab_type": "code",
        "colab": {}
      },
      "source": [
        "#importing libraries\n",
        "%tensorflow_version 1.x\n",
        "import tensorflow as tf\n",
        "import numpy as np\n",
        "import matplotlib.pyplot as plt\n",
        "sess = tf.Session()\n",
        "tf.set_random_seed(5)\n",
        "np.random.seed(42)\n"
      ],
      "execution_count": 0,
      "outputs": []
    },
    {
      "cell_type": "code",
      "metadata": {
        "id": "61Ld1h8ZzWOt",
        "colab_type": "code",
        "colab": {}
      },
      "source": [
        "#declaring batch size, model variables, data and a placeholder\n",
        "batch_size = 50\n",
        "a1 = tf.Variable(tf.random_normal(shape=[1,1]))\n",
        "b1 = tf.Variable(tf.random_uniform(shape = [1,1]))\n",
        "a2 = tf.Variable(tf.random_normal(shape=[1,1]))\n",
        "b2 = tf.Variable(tf.random_uniform(shape=[1,1]))\n",
        "x = np.random.normal(2,0.01,500)\n",
        "x_data = tf.placeholder(shape=[None,1], dtype=tf.float32)"
      ],
      "execution_count": 0,
      "outputs": []
    },
    {
      "cell_type": "code",
      "metadata": {
        "id": "LNEcrY6T0tGC",
        "colab_type": "code",
        "colab": {}
      },
      "source": [
        "#decaling sigmoid activation\n",
        "sigmoid_activation = tf.sigmoid(tf.add(tf.matmul(x_data, a1), b1)) \n",
        "\n",
        "#declaring Relu activation\n",
        "relu_activation = tf.nn.relu(tf.add(tf.matmul(x_data, a2), b2))\n"
      ],
      "execution_count": 0,
      "outputs": []
    },
    {
      "cell_type": "code",
      "metadata": {
        "id": "KT27xfqe2cP_",
        "colab_type": "code",
        "colab": {}
      },
      "source": [
        "#defining loss function wiht L2 norm with value 0.75\n",
        "loss1 = tf.reduce_mean(tf.square(tf.subtract(sigmoid_activation, 0.75)))\n",
        "loss2 = tf.reduce_mean(tf.square(tf.subtract(relu_activation, 0.75)))"
      ],
      "execution_count": 0,
      "outputs": []
    },
    {
      "cell_type": "code",
      "metadata": {
        "id": "Ci_2oeGm3ONu",
        "colab_type": "code",
        "colab": {}
      },
      "source": [
        "#defining optimisation and initilizing variables\n",
        "opt = tf.train.GradientDescentOptimizer(0.01)\n",
        "train_step_sigmoid = opt.minimize(loss1)\n",
        "train_step_relu = opt.minimize(loss2)\n",
        "init = tf.initialize_all_variables()\n",
        "sess.run(init)"
      ],
      "execution_count": 0,
      "outputs": []
    },
    {
      "cell_type": "code",
      "metadata": {
        "id": "4gDP_fHR7R3d",
        "colab_type": "code",
        "colab": {}
      },
      "source": [
        "#looping throug 750 itreation for both models\n",
        "loss_vec_sigmoid = []\n",
        "loss_vec_relu = []\n",
        "activation_sigmoid = []\n",
        "activation_relu = []\n",
        "for i in range(750):\n",
        "  rand_indices = np.random.choice(len(x), size = batch_size)\n",
        "  x_vals = np.transpose([x[rand_indices]])\n",
        "  sess.run(train_step_sigmoid, feed_dict = {x_data: x_vals})\n",
        "  sess.run(train_step_relu, feed_dict = {x_data: x_vals})\n",
        "  loss_vec_sigmoid.append(sess.run(loss1, feed_dict={x_data: x_vals}))\n",
        "  loss_vec_relu.append(sess.run(loss2, feed_dict={x_data: x_vals}))\n",
        "  activation_sigmoid.append(np.mean(sess.run(sigmoid_activation,feed_dict={x_data: x_vals})))\n",
        "  activation_relu.append(np.mean(sess.run(relu_activation, feed_dict={x_data: x_vals})))"
      ],
      "execution_count": 0,
      "outputs": []
    },
    {
      "cell_type": "code",
      "metadata": {
        "id": "qvBqTdk49IzH",
        "colab_type": "code",
        "colab": {
          "base_uri": "https://localhost:8080/",
          "height": 573
        },
        "outputId": "bde67716-f92d-49ea-9059-668b061ef08d"
      },
      "source": [
        "plt.plot(activation_sigmoid, 'k-', label='Sigmoid Activation')\n",
        "plt.plot(activation_relu, 'r--', label='Relu Activation')\n",
        "plt.ylim([0, 1.0])\n",
        "plt.title('Activation Outputs')\n",
        "plt.xlabel('Generation')\n",
        "plt.ylabel('Outputs')\n",
        "plt.legend(loc='upper right')\n",
        "plt.show()\n",
        "plt.plot(loss_vec_sigmoid, 'k-', label='Sigmoid Loss')\n",
        "plt.plot(loss_vec_relu, 'r--', label='Relu Loss')\n",
        "plt.ylim([0, 1.0])\n",
        "plt.title('Loss per Generation')\n",
        "plt.xlabel('Generation')\n",
        "plt.ylabel('Loss')\n",
        "plt.legend(loc='upper right')\n",
        "plt.show()"
      ],
      "execution_count": 31,
      "outputs": [
        {
          "output_type": "display_data",
          "data": {
            "image/png": "[encoded data removed]",
            "text/plain": [
              "<Figure size 432x288 with 1 Axes>"
            ]
          },
          "metadata": {
            "tags": []
          }
        },
        {
          "output_type": "display_data",
          "data": {
            "image/png": "[encoded data removed]",
            "text/plain": [
              "<Figure size 432x288 with 1 Axes>"
            ]
          },
          "metadata": {
            "tags": []
          }
        }
      ]
    },
    {
      "cell_type": "code",
      "metadata": {
        "id": "YP2b5gKnBJPH",
        "colab_type": "code",
        "colab": {}
      },
      "source": [
        ""
      ],
      "execution_count": 0,
      "outputs": []
    }
  ]
}