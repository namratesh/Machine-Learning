{
  "nbformat": 4,
  "nbformat_minor": 0,
  "metadata": {
    "colab": {
      "name": "7.Tensorflow CNN.ipynb",
      "provenance": [],
      "authorship_tag": "ABX9TyO3GeoWjfRUivey65sC5wSu",
      "include_colab_link": true
    },
    "kernelspec": {
      "name": "python3",
      "display_name": "Python 3"
    }
  },
  "cells": [
    {
      "cell_type": "markdown",
      "metadata": {
        "id": "view-in-github",
        "colab_type": "text"
      },
      "source": [
        "<a href=\"https://colab.research.google.com/github/namratesh/Machine-Learning/blob/master/7_Tensorflow_CNN.ipynb\" target=\"_parent\"><img src=\"https://colab.research.google.com/assets/colab-badge.svg\" alt=\"Open In Colab\"/></a>"
      ]
    },
    {
      "cell_type": "code",
      "metadata": {
        "id": "s5YGAqpZzNwy",
        "colab_type": "code",
        "outputId": "32ea9756-cb74-4f50-92d1-9154500cf6cc",
        "colab": {
          "base_uri": "https://localhost:8080/",
          "height": 54
        }
      },
      "source": [
        "''' CNN  - Convolution Neural Netwroks(CNNs) are major break through in image recognition made in th epast few years.\n",
        "in this tutorial, we will build 4-layer Convolution Neuarl Network to impore accuracy in predicting the MNIST digits.\n",
        " '''"
      ],
      "execution_count": 5,
      "outputs": [
        {
          "output_type": "execute_result",
          "data": {
            "text/plain": [
              "' CNN  - Convolution Neural Netwroks(CNNs) are major break through in image recognition made in th epast few years.\\nin this tutorial, we will build 4-layer Convolution Neuarl Network to impore accuracy in predicting the MNIST digits.\\n '"
            ]
          },
          "metadata": {
            "tags": []
          },
          "execution_count": 5
        }
      ]
    },
    {
      "cell_type": "code",
      "metadata": {
        "id": "rfFt_9EPzrI0",
        "colab_type": "code",
        "colab": {
          "base_uri": "https://localhost:8080/",
          "height": 62
        },
        "outputId": "66f04364-c49c-44d6-93ad-abcdd834082d"
      },
      "source": [
        "#import libraries\n",
        "import matplotlib.pyplot as plt\n",
        "import numpy as np\n",
        "import tensorflow as tf\n",
        "from tensorflow import keras"
      ],
      "execution_count": 6,
      "outputs": [
        {
          "output_type": "display_data",
          "data": {
            "text/html": [
              "<p style=\"color: red;\">\n",
              "The default version of TensorFlow in Colab will soon switch to TensorFlow 2.x.<br>\n",
              "We recommend you <a href=\"https://www.tensorflow.org/guide/migrate\" target=\"_blank\">upgrade</a> now \n",
              "or ensure your notebook will continue to use TensorFlow 1.x via the <code>%tensorflow_version 1.x</code> magic:\n",
              "<a href=\"https://colab.research.google.com/notebooks/tensorflow_version.ipynb\" target=\"_blank\">more info</a>.</p>\n"
            ],
            "text/plain": [
              "<IPython.core.display.HTML object>"
            ]
          },
          "metadata": {
            "tags": []
          }
        }
      ]
    },
    {
      "cell_type": "code",
      "metadata": {
        "id": "nyIP6UDWz4BM",
        "colab_type": "code",
        "outputId": "935336f7-16e8-499d-e317-25789ab9909f",
        "colab": {
          "base_uri": "https://localhost:8080/",
          "height": 151
        }
      },
      "source": [
        "#load dataset\n",
        "fashion_mnist = keras.datasets.fashion_mnist\n",
        "(train_images, train_labels), (test_images, test_labels) = fashion_mnist.load_data()"
      ],
      "execution_count": 7,
      "outputs": [
        {
          "output_type": "stream",
          "text": [
            "Downloading data from https://storage.googleapis.com/tensorflow/tf-keras-datasets/train-labels-idx1-ubyte.gz\n",
            "32768/29515 [=================================] - 0s 0us/step\n",
            "Downloading data from https://storage.googleapis.com/tensorflow/tf-keras-datasets/train-images-idx3-ubyte.gz\n",
            "26427392/26421880 [==============================] - 1s 0us/step\n",
            "Downloading data from https://storage.googleapis.com/tensorflow/tf-keras-datasets/t10k-labels-idx1-ubyte.gz\n",
            "8192/5148 [===============================================] - 0s 0us/step\n",
            "Downloading data from https://storage.googleapis.com/tensorflow/tf-keras-datasets/t10k-images-idx3-ubyte.gz\n",
            "4423680/4422102 [==============================] - 0s 0us/step\n"
          ],
          "name": "stdout"
        }
      ]
    },
    {
      "cell_type": "code",
      "metadata": {
        "id": "fQ90b5090tEs",
        "colab_type": "code",
        "outputId": "0e84e4c1-7b8f-4c85-9e87-1dde793c9028",
        "colab": {
          "base_uri": "https://localhost:8080/",
          "height": 54
        }
      },
      "source": [
        "'''\n",
        "Loading dataset return 4 numpy array\n",
        "* images are 28*28 numpy arrays with pixel values from 0 to 255.\n",
        "* labels are an array of integers, ranging from 0 t 9.\n",
        "These correspond to class of clothing the image:\n",
        "\n",
        "Label\t  Class\n",
        "0\t      T-shirt/top\n",
        "1\t      Trouser\n",
        "2\t      Pullover\n",
        "3      \tDress\n",
        "4\t      Coat\n",
        "5\t      Sandal\n",
        "6\t      Shirt\n",
        "7\t      Sneaker\n",
        "8\t      Bag\n",
        "9\t      Ankle boot\n",
        "\n",
        "* Each image is mapped to single label.\n",
        "\n",
        "'''"
      ],
      "execution_count": 8,
      "outputs": [
        {
          "output_type": "execute_result",
          "data": {
            "text/plain": [
              "'\\nLoading dataset return 4 numpy array\\n* images are 28*28 numpy arrays with pixel values from 0 to 255.\\n* labels are an array of integers, ranging from 0 t 9.\\nThese correspond to class of clothing the image:\\n\\nLabel\\t  Class\\n0\\t      T-shirt/top\\n1\\t      Trouser\\n2\\t      Pullover\\n3      \\tDress\\n4\\t      Coat\\n5\\t      Sandal\\n6\\t      Shirt\\n7\\t      Sneaker\\n8\\t      Bag\\n9\\t      Ankle boot\\n\\n* Each image is mapped to single label.\\n\\n'"
            ]
          },
          "metadata": {
            "tags": []
          },
          "execution_count": 8
        }
      ]
    },
    {
      "cell_type": "code",
      "metadata": {
        "id": "s9IeZXitLUOA",
        "colab_type": "code",
        "colab": {}
      },
      "source": [
        "#class names are included in dataset, so we have to add it\n",
        "class_names = ['T-shirt/top', 'Trouser', 'Pullover', 'Dress', 'Coat', \n",
        "               'Sandal', 'Shirt', 'Sneaker', 'Bag', 'Ankle boot']"
      ],
      "execution_count": 0,
      "outputs": []
    },
    {
      "cell_type": "markdown",
      "metadata": {
        "id": "x_gczsVSLwb4",
        "colab_type": "text"
      },
      "source": [
        "## Explore data"
      ]
    },
    {
      "cell_type": "code",
      "metadata": {
        "id": "bHaqXUS-Lzb_",
        "colab_type": "code",
        "outputId": "3d1f4115-ae44-4a05-c685-6632df8b21d1",
        "colab": {
          "base_uri": "https://localhost:8080/",
          "height": 34
        }
      },
      "source": [
        "#training image size\n",
        "train_images.shape"
      ],
      "execution_count": 10,
      "outputs": [
        {
          "output_type": "execute_result",
          "data": {
            "text/plain": [
              "(60000, 28, 28)"
            ]
          },
          "metadata": {
            "tags": []
          },
          "execution_count": 10
        }
      ]
    },
    {
      "cell_type": "code",
      "metadata": {
        "id": "pDABYL-tMtzN",
        "colab_type": "code",
        "outputId": "92639095-6745-4862-8406-b35efca8c618",
        "colab": {
          "base_uri": "https://localhost:8080/",
          "height": 34
        }
      },
      "source": [
        "#len of training labels\n",
        "len(train_labels)"
      ],
      "execution_count": 11,
      "outputs": [
        {
          "output_type": "execute_result",
          "data": {
            "text/plain": [
              "60000"
            ]
          },
          "metadata": {
            "tags": []
          },
          "execution_count": 11
        }
      ]
    },
    {
      "cell_type": "code",
      "metadata": {
        "id": "64FuqUbPM1Uw",
        "colab_type": "code",
        "outputId": "6f0cb675-9f72-431d-ed30-b34682772c60",
        "colab": {
          "base_uri": "https://localhost:8080/",
          "height": 34
        }
      },
      "source": [
        "#train_labels\n",
        "train_labels"
      ],
      "execution_count": 12,
      "outputs": [
        {
          "output_type": "execute_result",
          "data": {
            "text/plain": [
              "array([9, 0, 0, ..., 3, 0, 5], dtype=uint8)"
            ]
          },
          "metadata": {
            "tags": []
          },
          "execution_count": 12
        }
      ]
    },
    {
      "cell_type": "code",
      "metadata": {
        "id": "temaPPnIM68k",
        "colab_type": "code",
        "outputId": "0617e8b1-4d7f-4456-99b5-fb48dd0c80ae",
        "colab": {
          "base_uri": "https://localhost:8080/",
          "height": 34
        }
      },
      "source": [
        "#test image size\n",
        "test_images.shape"
      ],
      "execution_count": 13,
      "outputs": [
        {
          "output_type": "execute_result",
          "data": {
            "text/plain": [
              "(10000, 28, 28)"
            ]
          },
          "metadata": {
            "tags": []
          },
          "execution_count": 13
        }
      ]
    },
    {
      "cell_type": "code",
      "metadata": {
        "id": "i0YxYfxHNCYu",
        "colab_type": "code",
        "outputId": "8f694328-9e71-4ca5-9148-e056af28375b",
        "colab": {
          "base_uri": "https://localhost:8080/",
          "height": 34
        }
      },
      "source": [
        "#test set image labels\n",
        "test_labels"
      ],
      "execution_count": 14,
      "outputs": [
        {
          "output_type": "execute_result",
          "data": {
            "text/plain": [
              "array([9, 2, 1, ..., 8, 1, 5], dtype=uint8)"
            ]
          },
          "metadata": {
            "tags": []
          },
          "execution_count": 14
        }
      ]
    },
    {
      "cell_type": "markdown",
      "metadata": {
        "id": "5hYKXp-8OTov",
        "colab_type": "text"
      },
      "source": [
        "## Process the data"
      ]
    },
    {
      "cell_type": "code",
      "metadata": {
        "id": "NQUO_9V0ON1N",
        "colab_type": "code",
        "outputId": "2cd33dda-ded9-4fdf-8ddc-d559fd92d0ed",
        "colab": {
          "base_uri": "https://localhost:8080/",
          "height": 265
        }
      },
      "source": [
        "plt.figure()\n",
        "plt.imshow(train_images[0])\n",
        "plt.colorbar()\n",
        "plt.grid(True)\n",
        "plt.show()"
      ],
      "execution_count": 15,
      "outputs": [
        {
          "output_type": "display_data",
          "data": {
            "image/png": "[encoded data removed]",
            "text/plain": [
              "<Figure size 432x288 with 2 Axes>"
            ]
          },
          "metadata": {
            "tags": []
          }
        }
      ]
    },
    {
      "cell_type": "code",
      "metadata": {
        "id": "5d92Ls30ORk-",
        "colab_type": "code",
        "colab": {}
      },
      "source": [
        "#scale these value to a range 0 to 1 before feeding them to the neural network model.\n",
        "train_images = train_images / 255.0\n",
        "test_images = test_images / 255.0"
      ],
      "execution_count": 0,
      "outputs": []
    },
    {
      "cell_type": "code",
      "metadata": {
        "id": "IZ6KioOXO0bP",
        "colab_type": "code",
        "outputId": "fe0265ef-b455-43ca-aa90-41fca79ed8cc",
        "colab": {
          "base_uri": "https://localhost:8080/",
          "height": 589
        }
      },
      "source": [
        "#display top 25 images\n",
        "plt.figure(figsize=(10,10))\n",
        "for i in range(25):\n",
        "  plt.subplot(5,5, i+1)\n",
        "  plt.xticks([])\n",
        "  plt.yticks([])\n",
        "  plt.grid(False)\n",
        "  plt.imshow(train_images[i], cmap=plt.cm.binary)\n",
        "  plt.xlabel(class_names[train_labels[i]])\n",
        "plt.show()"
      ],
      "execution_count": 17,
      "outputs": [
        {
          "output_type": "display_data",
          "data": {
            "image/png": "[encoded data removed]",
            "text/plain": [
              "<Figure size 720x720 with 25 Axes>"
            ]
          },
          "metadata": {
            "tags": []
          }
        }
      ]
    },
    {
      "cell_type": "markdown",
      "metadata": {
        "id": "93W_Zhm0RBxm",
        "colab_type": "text"
      },
      "source": [
        "# Build the model"
      ]
    },
    {
      "cell_type": "code",
      "metadata": {
        "id": "YyikEIkBPlm3",
        "colab_type": "code",
        "colab": {
          "base_uri": "https://localhost:8080/",
          "height": 87
        },
        "outputId": "7456cf02-e4d4-40b0-e4be-7ec538bef073"
      },
      "source": [
        "#set up the layers\n",
        "model = keras.Sequential([\n",
        "      #transorm the format image from 2D (28,28) to 1d(28*28=784)\n",
        "       keras.layers.Flatten(input_shape = (28,28)),\n",
        "       \n",
        "       #densely connected nerual layers. First dense layer has 128 nodes\n",
        "       #second layers has 10 node softmax layer that return array of 10 \n",
        "       #probability scores that sum 1\n",
        "       keras.layers.Dense(128, activation='relu'),\n",
        "       keras.layers.Dense(10)\n",
        "])"
      ],
      "execution_count": 18,
      "outputs": [
        {
          "output_type": "stream",
          "text": [
            "WARNING:tensorflow:From /usr/local/lib/python3.6/dist-packages/tensorflow_core/python/ops/resource_variable_ops.py:1630: calling BaseResourceVariable.__init__ (from tensorflow.python.ops.resource_variable_ops) with constraint is deprecated and will be removed in a future version.\n",
            "Instructions for updating:\n",
            "If using Keras pass *_constraint arguments to layers.\n"
          ],
          "name": "stdout"
        }
      ]
    },
    {
      "cell_type": "markdown",
      "metadata": {
        "id": "_XUy5h5aTMGn",
        "colab_type": "text"
      },
      "source": [
        "Compile The Model"
      ]
    },
    {
      "cell_type": "code",
      "metadata": {
        "id": "KGC0TyccRpM0",
        "colab_type": "code",
        "colab": {}
      },
      "source": [
        "#before training out model it needs few things\n",
        "'''\n",
        "Loss function - measure how accurate the model is during training time\n",
        "\n",
        "optimizer - model is updated based on the data it sees and its loss function\n",
        "\n",
        "metrics - used to monitor the training and testing steps\n",
        "'''\n",
        "\n",
        "model.compile(optimizer = 'adam',\n",
        "              loss = tf.keras.losses.SparseCategoricalCrossentropy(from_logits=True),\n",
        "              metrics = ['accuracy'])"
      ],
      "execution_count": 0,
      "outputs": []
    },
    {
      "cell_type": "markdown",
      "metadata": {
        "id": "lvxtDw_jU22H",
        "colab_type": "text"
      },
      "source": [
        "## Train the model\n",
        "Training the model needs below steps:\n",
        "1. Feed the data into taring model\n",
        "2. model learns to associate images and labels\n",
        "3. ask the model to make prediction using test set images\n",
        "4. verify that prediction"
      ]
    },
    {
      "cell_type": "code",
      "metadata": {
        "id": "z3z885JVU01v",
        "colab_type": "code",
        "outputId": "ea3fc3b0-e976-4d26-9d40-d5e4ed6d2e85",
        "colab": {
          "base_uri": "https://localhost:8080/",
          "height": 386
        }
      },
      "source": [
        "model.fit(train_images, train_labels, epochs=10)"
      ],
      "execution_count": 20,
      "outputs": [
        {
          "output_type": "stream",
          "text": [
            "Train on 60000 samples\n",
            "Epoch 1/10\n",
            "60000/60000 [==============================] - 4s 73us/sample - loss: 0.4988 - acc: 0.8233\n",
            "Epoch 2/10\n",
            "60000/60000 [==============================] - 4s 65us/sample - loss: 0.3748 - acc: 0.8642\n",
            "Epoch 3/10\n",
            "60000/60000 [==============================] - 4s 66us/sample - loss: 0.3379 - acc: 0.8773\n",
            "Epoch 4/10\n",
            "60000/60000 [==============================] - 4s 70us/sample - loss: 0.3100 - acc: 0.8874\n",
            "Epoch 5/10\n",
            "60000/60000 [==============================] - 4s 72us/sample - loss: 0.2942 - acc: 0.8921\n",
            "Epoch 6/10\n",
            "60000/60000 [==============================] - 4s 70us/sample - loss: 0.2796 - acc: 0.8962\n",
            "Epoch 7/10\n",
            "60000/60000 [==============================] - 4s 64us/sample - loss: 0.2659 - acc: 0.9014\n",
            "Epoch 8/10\n",
            "60000/60000 [==============================] - 4s 64us/sample - loss: 0.2559 - acc: 0.9035\n",
            "Epoch 9/10\n",
            "60000/60000 [==============================] - 4s 68us/sample - loss: 0.2483 - acc: 0.9074\n",
            "Epoch 10/10\n",
            "60000/60000 [==============================] - 4s 64us/sample - loss: 0.2378 - acc: 0.9116\n"
          ],
          "name": "stdout"
        },
        {
          "output_type": "execute_result",
          "data": {
            "text/plain": [
              "<tensorflow.python.keras.callbacks.History at 0x7f241a143dd8>"
            ]
          },
          "metadata": {
            "tags": []
          },
          "execution_count": 20
        }
      ]
    },
    {
      "cell_type": "markdown",
      "metadata": {
        "id": "q_Wfonc0Vo7k",
        "colab_type": "text"
      },
      "source": [
        "## Evaluate Accuary"
      ]
    },
    {
      "cell_type": "code",
      "metadata": {
        "id": "ASMUChq_Vj9f",
        "colab_type": "code",
        "outputId": "5bea234c-eec3-4b75-8a07-19de432623b4",
        "colab": {
          "base_uri": "https://localhost:8080/",
          "height": 50
        }
      },
      "source": [
        "test_loss, test_acc = model.evaluate(test_images, test_labels, verbose=2)\n",
        "print(\"test accuarcy: \", test_acc)"
      ],
      "execution_count": 21,
      "outputs": [
        {
          "output_type": "stream",
          "text": [
            "10000/10000 - 0s - loss: 0.3222 - acc: 0.8889\n",
            "test accuarcy:  0.8889\n"
          ],
          "name": "stdout"
        }
      ]
    },
    {
      "cell_type": "code",
      "metadata": {
        "id": "gK6go_QoVz__",
        "colab_type": "code",
        "colab": {}
      },
      "source": [
        "'''\n",
        "by evaluating train and test accuarcy we can see out test accuarcy \n",
        "has been decrease so our model is overfitting. \n",
        "\n",
        "Overfitting - is when a ml model performs bad on test data but good \n",
        "              on train dataset.\n",
        "'''\n",
        "\n",
        "#make Prediction\n",
        "prob_model = tf.keras.Sequential([model, tf.keras.layers.Softmax()])"
      ],
      "execution_count": 0,
      "outputs": []
    },
    {
      "cell_type": "code",
      "metadata": {
        "id": "jsiCshyhXtWx",
        "colab_type": "code",
        "colab": {}
      },
      "source": [
        "prediction = prob_model.predict(test_images)"
      ],
      "execution_count": 0,
      "outputs": []
    },
    {
      "cell_type": "code",
      "metadata": {
        "id": "bVGK4vcAX0H6",
        "colab_type": "code",
        "outputId": "ea8f1668-ed22-4dae-b3bf-2f5a8efbbc78",
        "colab": {
          "base_uri": "https://localhost:8080/",
          "height": 67
        }
      },
      "source": [
        "#prediction is an array of 10 numbers. It's present model is confidence that\n",
        "#the image corresponds to each of the 10 different articles of clothing\n",
        "\n",
        "prediction[2]"
      ],
      "execution_count": 24,
      "outputs": [
        {
          "output_type": "execute_result",
          "data": {
            "text/plain": [
              "array([9.7382435e-10, 1.0000000e+00, 5.5848369e-14, 4.9931992e-10,\n",
              "       3.6315645e-11, 9.6982681e-20, 1.1333281e-11, 1.4930565e-23,\n",
              "       2.3311036e-12, 2.0502767e-17], dtype=float32)"
            ]
          },
          "metadata": {
            "tags": []
          },
          "execution_count": 24
        }
      ]
    },
    {
      "cell_type": "code",
      "metadata": {
        "id": "EkId0qFWX1_a",
        "colab_type": "code",
        "outputId": "66b792b6-7785-4b35-859d-b1cdbd62d907",
        "colab": {
          "base_uri": "https://localhost:8080/",
          "height": 34
        }
      },
      "source": [
        "np.argmax(prediction[2])"
      ],
      "execution_count": 25,
      "outputs": [
        {
          "output_type": "execute_result",
          "data": {
            "text/plain": [
              "1"
            ]
          },
          "metadata": {
            "tags": []
          },
          "execution_count": 25
        }
      ]
    },
    {
      "cell_type": "code",
      "metadata": {
        "id": "TUtVaQJwY7GL",
        "colab_type": "code",
        "outputId": "fd1e8d25-17ed-4a08-dadb-3d3ccb3e05a6",
        "colab": {
          "base_uri": "https://localhost:8080/",
          "height": 34
        }
      },
      "source": [
        "test_labels[2]"
      ],
      "execution_count": 26,
      "outputs": [
        {
          "output_type": "execute_result",
          "data": {
            "text/plain": [
              "1"
            ]
          },
          "metadata": {
            "tags": []
          },
          "execution_count": 26
        }
      ]
    },
    {
      "cell_type": "code",
      "metadata": {
        "id": "cTOfhyflZAo0",
        "colab_type": "code",
        "colab": {}
      },
      "source": [
        "#graph this to look at the full set of 10 class\n",
        "def plot_image(i, predictions_array, true_label, img):\n",
        "  predictions_array, true_label, img = predictions_array, true_label[i], img[i]\n",
        "  plt.grid(False)\n",
        "  plt.xticks([])\n",
        "  plt.yticks([])\n",
        "\n",
        "  plt.imshow(img, cmap=plt.cm.binary)\n",
        "\n",
        "  predicted_label = np.argmax(predictions_array)\n",
        "  if predicted_label == true_label:\n",
        "    color = 'blue'\n",
        "  else:\n",
        "    color = 'red'\n",
        "\n",
        "  plt.xlabel(\"{} {:2.0f}% ({})\".format(class_names[predicted_label], \n",
        "                                       100*np.max(predictions_array),\n",
        "                                       class_names[true_label]),\n",
        "                                       color = color)\n",
        "             \n",
        "                                        \n",
        "                                                                                "
      ],
      "execution_count": 0,
      "outputs": []
    },
    {
      "cell_type": "code",
      "metadata": {
        "id": "p_BO2Mr7wQW8",
        "colab_type": "code",
        "colab": {}
      },
      "source": [
        "def plot_value_array(i, predictions_array, true_label):\n",
        "  predictions_array, true_label = predictions_array, true_label[i]\n",
        "  plt.grid(False)\n",
        "  plt.xticks(range(10))\n",
        "  plt.yticks([])\n",
        "  thisplot = plt.bar(range(10), predictions_array, color = '#777777')\n",
        "  plt.ylim([0,1])\n",
        "  predicted_label = np.argmax(predictions_array)\n",
        "\n",
        "  thisplot[predicted_label].set_color('red')\n",
        "  thisplot[true_label].set_color('blue')"
      ],
      "execution_count": 0,
      "outputs": []
    },
    {
      "cell_type": "code",
      "metadata": {
        "id": "4HST_35Txc8Q",
        "colab_type": "code",
        "colab": {
          "base_uri": "https://localhost:8080/",
          "height": 211
        },
        "outputId": "ecccb889-5ff5-4929-ad26-2218ffa3c9f2"
      },
      "source": [
        "i = 0\n",
        "plt.figure(figsize=(6,3))\n",
        "plt.subplot(1,2,1)\n",
        "plot_image(i, prediction[i], test_labels, test_images)\n",
        "plt.subplot(1,2,2)\n",
        "plot_value_array(i, prediction[i],  test_labels)\n",
        "plt.show()"
      ],
      "execution_count": 41,
      "outputs": [
        {
          "output_type": "display_data",
          "data": {
            "image/png": "[encoded data removed]",
            "text/plain": [
              "<Figure size 432x216 with 2 Axes>"
            ]
          },
          "metadata": {
            "tags": []
          }
        }
      ]
    },
    {
      "cell_type": "code",
      "metadata": {
        "id": "457X8MeYxfeM",
        "colab_type": "code",
        "colab": {
          "base_uri": "https://localhost:8080/",
          "height": 211
        },
        "outputId": "c24a84aa-a6b2-4367-b37b-8a816577b155"
      },
      "source": [
        "i = 22\n",
        "plt.figure(figsize=(6,3))\n",
        "plt.subplot(1,2,1)\n",
        "plot_image(i, prediction[i], test_labels, test_images)\n",
        "plt.subplot(1,2,2)\n",
        "plot_value_array(i, prediction[i],  test_labels)\n",
        "plt.show()\n"
      ],
      "execution_count": 42,
      "outputs": [
        {
          "output_type": "display_data",
          "data": {
            "image/png": "[encoded data removed]",
            "text/plain": [
              "<Figure size 432x216 with 2 Axes>"
            ]
          },
          "metadata": {
            "tags": []
          }
        }
      ]
    },
    {
      "cell_type": "code",
      "metadata": {
        "id": "I45iXoOwynUe",
        "colab_type": "code",
        "colab": {
          "base_uri": "https://localhost:8080/",
          "height": 729
        },
        "outputId": "2b6ca916-bf80-4abd-dc19-24cb01f748cb"
      },
      "source": [
        "num_rows = 5\n",
        "num_cols = 3\n",
        "num_images = num_rows * num_cols\n",
        "plt.figure(figsize=(2*2*num_cols, 2*num_rows))\n",
        "for i in range(num_images):\n",
        "  plt.subplot(num_rows, 2*num_cols, 2*i+1)\n",
        "  plot_image(i, prediction[i], test_labels, test_images)\n",
        "  plt.subplot(num_rows, 2*num_cols, 2*i+2)\n",
        "  plot_value_array(i, prediction[i], test_labels)\n",
        "plt.tight_layout()\n",
        "plt.show()"
      ],
      "execution_count": 47,
      "outputs": [
        {
          "output_type": "display_data",
          "data": {
            "image/png": "[encoded data removed]",
            "text/plain": [
              "<Figure size 864x720 with 30 Axes>"
            ]
          },
          "metadata": {
            "tags": []
          }
        }
      ]
    },
    {
      "cell_type": "markdown",
      "metadata": {
        "id": "_wrq6z800SO6",
        "colab_type": "text"
      },
      "source": [
        "Use the Trained model"
      ]
    },
    {
      "cell_type": "code",
      "metadata": {
        "id": "lO2EBmmFz3WN",
        "colab_type": "code",
        "colab": {
          "base_uri": "https://localhost:8080/",
          "height": 34
        },
        "outputId": "258f2ee5-3adf-44a6-e759-1bd08df933e6"
      },
      "source": [
        "img = test_images[1]\n",
        "print(img.shape)"
      ],
      "execution_count": 48,
      "outputs": [
        {
          "output_type": "stream",
          "text": [
            "(28, 28)\n"
          ],
          "name": "stdout"
        }
      ]
    },
    {
      "cell_type": "code",
      "metadata": {
        "id": "HttjNDnb0Zxt",
        "colab_type": "code",
        "colab": {
          "base_uri": "https://localhost:8080/",
          "height": 34
        },
        "outputId": "b2fb4233-517f-4112-c3ad-e0f28d6a9556"
      },
      "source": [
        "img = (np.expand_dims(img,0))\n",
        "print(img.shape)"
      ],
      "execution_count": 49,
      "outputs": [
        {
          "output_type": "stream",
          "text": [
            "(1, 28, 28)\n"
          ],
          "name": "stdout"
        }
      ]
    },
    {
      "cell_type": "code",
      "metadata": {
        "id": "Wu8MZNiH0iRM",
        "colab_type": "code",
        "colab": {
          "base_uri": "https://localhost:8080/",
          "height": 50
        },
        "outputId": "d9578a9a-7042-4e2e-81d4-f46673aa94e8"
      },
      "source": [
        "prediction_single = prob_model.predict(img)\n",
        "print(prediction_single)"
      ],
      "execution_count": 52,
      "outputs": [
        {
          "output_type": "stream",
          "text": [
            "[[2.6785052e-05 2.0544469e-11 9.9664056e-01 1.2818643e-11 3.0071249e-03\n",
            "  6.3188338e-10 3.2549255e-04 1.1188190e-15 3.1057140e-10 3.2752609e-14]]\n"
          ],
          "name": "stdout"
        }
      ]
    },
    {
      "cell_type": "code",
      "metadata": {
        "id": "fOWvZijs02XU",
        "colab_type": "code",
        "colab": {
          "base_uri": "https://localhost:8080/",
          "height": 300
        },
        "outputId": "081762c6-6e84-43ca-ce50-808ef62080ba"
      },
      "source": [
        "plot_value_array(1, prediction_single[0], test_labels) \n",
        "_ = plt.xticks(range(10), class_names, rotation=45)"
      ],
      "execution_count": 58,
      "outputs": [
        {
          "output_type": "display_data",
          "data": {
            "image/png": "[encoded data removed]",
            "text/plain": [
              "<Figure size 432x288 with 1 Axes>"
            ]
          },
          "metadata": {
            "tags": []
          }
        }
      ]
    },
    {
      "cell_type": "code",
      "metadata": {
        "id": "lTUbOLpw1cbH",
        "colab_type": "code",
        "colab": {}
      },
      "source": [
        ""
      ],
      "execution_count": 0,
      "outputs": []
    }
  ]
}